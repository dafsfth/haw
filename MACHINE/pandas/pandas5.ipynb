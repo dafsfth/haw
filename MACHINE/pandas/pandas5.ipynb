{
 "cells": [
  {
   "cell_type": "code",
   "execution_count": 1,
   "metadata": {},
   "outputs": [],
   "source": [
    "import pandas as pd\n",
    "import numpy as np"
   ]
  },
  {
   "cell_type": "code",
   "execution_count": 2,
   "metadata": {
    "collapsed": true
   },
   "outputs": [
    {
     "data": {
      "text/html": [
       "<div>\n",
       "<style scoped>\n",
       "    .dataframe tbody tr th:only-of-type {\n",
       "        vertical-align: middle;\n",
       "    }\n",
       "\n",
       "    .dataframe tbody tr th {\n",
       "        vertical-align: top;\n",
       "    }\n",
       "\n",
       "    .dataframe thead th {\n",
       "        text-align: right;\n",
       "    }\n",
       "</style>\n",
       "<table border=\"1\" class=\"dataframe\">\n",
       "  <thead>\n",
       "    <tr style=\"text-align: right;\">\n",
       "      <th></th>\n",
       "      <th>0</th>\n",
       "      <th>1</th>\n",
       "      <th>2</th>\n",
       "      <th>3</th>\n",
       "      <th>4</th>\n",
       "    </tr>\n",
       "  </thead>\n",
       "  <tbody>\n",
       "    <tr>\n",
       "      <th>0</th>\n",
       "      <td>194</td>\n",
       "      <td>587</td>\n",
       "      <td>443</td>\n",
       "      <td>882</td>\n",
       "      <td>822</td>\n",
       "    </tr>\n",
       "    <tr>\n",
       "      <th>1</th>\n",
       "      <td>507</td>\n",
       "      <td>588</td>\n",
       "      <td>381</td>\n",
       "      <td>342</td>\n",
       "      <td>855</td>\n",
       "    </tr>\n",
       "    <tr>\n",
       "      <th>2</th>\n",
       "      <td>430</td>\n",
       "      <td>464</td>\n",
       "      <td>106</td>\n",
       "      <td>602</td>\n",
       "      <td>450</td>\n",
       "    </tr>\n",
       "    <tr>\n",
       "      <th>3</th>\n",
       "      <td>953</td>\n",
       "      <td>292</td>\n",
       "      <td>287</td>\n",
       "      <td>158</td>\n",
       "      <td>565</td>\n",
       "    </tr>\n",
       "    <tr>\n",
       "      <th>4</th>\n",
       "      <td>918</td>\n",
       "      <td>746</td>\n",
       "      <td>709</td>\n",
       "      <td>877</td>\n",
       "      <td>253</td>\n",
       "    </tr>\n",
       "    <tr>\n",
       "      <th>5</th>\n",
       "      <td>89</td>\n",
       "      <td>654</td>\n",
       "      <td>425</td>\n",
       "      <td>436</td>\n",
       "      <td>58</td>\n",
       "    </tr>\n",
       "    <tr>\n",
       "      <th>6</th>\n",
       "      <td>98</td>\n",
       "      <td>250</td>\n",
       "      <td>260</td>\n",
       "      <td>252</td>\n",
       "      <td>812</td>\n",
       "    </tr>\n",
       "    <tr>\n",
       "      <th>7</th>\n",
       "      <td>86</td>\n",
       "      <td>879</td>\n",
       "      <td>548</td>\n",
       "      <td>340</td>\n",
       "      <td>413</td>\n",
       "    </tr>\n",
       "    <tr>\n",
       "      <th>8</th>\n",
       "      <td>883</td>\n",
       "      <td>930</td>\n",
       "      <td>718</td>\n",
       "      <td>484</td>\n",
       "      <td>186</td>\n",
       "    </tr>\n",
       "    <tr>\n",
       "      <th>9</th>\n",
       "      <td>311</td>\n",
       "      <td>11</td>\n",
       "      <td>972</td>\n",
       "      <td>2</td>\n",
       "      <td>416</td>\n",
       "    </tr>\n",
       "    <tr>\n",
       "      <th>10</th>\n",
       "      <td>622</td>\n",
       "      <td>11</td>\n",
       "      <td>827</td>\n",
       "      <td>214</td>\n",
       "      <td>280</td>\n",
       "    </tr>\n",
       "    <tr>\n",
       "      <th>11</th>\n",
       "      <td>586</td>\n",
       "      <td>259</td>\n",
       "      <td>860</td>\n",
       "      <td>197</td>\n",
       "      <td>359</td>\n",
       "    </tr>\n",
       "    <tr>\n",
       "      <th>12</th>\n",
       "      <td>790</td>\n",
       "      <td>637</td>\n",
       "      <td>386</td>\n",
       "      <td>885</td>\n",
       "      <td>956</td>\n",
       "    </tr>\n",
       "    <tr>\n",
       "      <th>13</th>\n",
       "      <td>149</td>\n",
       "      <td>478</td>\n",
       "      <td>173</td>\n",
       "      <td>517</td>\n",
       "      <td>804</td>\n",
       "    </tr>\n",
       "    <tr>\n",
       "      <th>14</th>\n",
       "      <td>114</td>\n",
       "      <td>147</td>\n",
       "      <td>778</td>\n",
       "      <td>194</td>\n",
       "      <td>781</td>\n",
       "    </tr>\n",
       "    <tr>\n",
       "      <th>15</th>\n",
       "      <td>730</td>\n",
       "      <td>404</td>\n",
       "      <td>765</td>\n",
       "      <td>151</td>\n",
       "      <td>300</td>\n",
       "    </tr>\n",
       "    <tr>\n",
       "      <th>16</th>\n",
       "      <td>923</td>\n",
       "      <td>919</td>\n",
       "      <td>176</td>\n",
       "      <td>502</td>\n",
       "      <td>711</td>\n",
       "    </tr>\n",
       "    <tr>\n",
       "      <th>17</th>\n",
       "      <td>827</td>\n",
       "      <td>772</td>\n",
       "      <td>171</td>\n",
       "      <td>221</td>\n",
       "      <td>920</td>\n",
       "    </tr>\n",
       "    <tr>\n",
       "      <th>18</th>\n",
       "      <td>80</td>\n",
       "      <td>568</td>\n",
       "      <td>985</td>\n",
       "      <td>210</td>\n",
       "      <td>283</td>\n",
       "    </tr>\n",
       "    <tr>\n",
       "      <th>19</th>\n",
       "      <td>881</td>\n",
       "      <td>698</td>\n",
       "      <td>948</td>\n",
       "      <td>839</td>\n",
       "      <td>536</td>\n",
       "    </tr>\n",
       "  </tbody>\n",
       "</table>\n",
       "</div>"
      ],
      "text/plain": [
       "      0    1    2    3    4\n",
       "0   194  587  443  882  822\n",
       "1   507  588  381  342  855\n",
       "2   430  464  106  602  450\n",
       "3   953  292  287  158  565\n",
       "4   918  746  709  877  253\n",
       "5    89  654  425  436   58\n",
       "6    98  250  260  252  812\n",
       "7    86  879  548  340  413\n",
       "8   883  930  718  484  186\n",
       "9   311   11  972    2  416\n",
       "10  622   11  827  214  280\n",
       "11  586  259  860  197  359\n",
       "12  790  637  386  885  956\n",
       "13  149  478  173  517  804\n",
       "14  114  147  778  194  781\n",
       "15  730  404  765  151  300\n",
       "16  923  919  176  502  711\n",
       "17  827  772  171  221  920\n",
       "18   80  568  985  210  283\n",
       "19  881  698  948  839  536"
      ]
     },
     "execution_count": 2,
     "metadata": {},
     "output_type": "execute_result"
    }
   ],
   "source": [
    "data = pd.DataFrame(data=np.random.randint(1, 1000, size=(20, 5)))\n",
    "data"
   ]
  },
  {
   "cell_type": "code",
   "execution_count": 4,
   "metadata": {},
   "outputs": [],
   "source": [
    "data.to_excel('to_excel1.xlsx', sheet_name='A', header=None, index=None)"
   ]
  },
  {
   "cell_type": "markdown",
   "metadata": {},
   "source": [
    "<h4>在同一个Excel文件内写入多个sheet</h4>"
   ]
  },
  {
   "cell_type": "code",
   "execution_count": 6,
   "metadata": {},
   "outputs": [],
   "source": [
    "writer = pd.ExcelWriter('to_excel2.xlsx')\n",
    "data.to_excel(writer, sheet_name='A', header=None, index=None)\n",
    "data2 = pd.DataFrame(data=np.random.uniform(size=(20, 5)))\n",
    "data2.to_excel(writer, sheet_name='B', header=None, index=None)\n",
    "writer.save()"
   ]
  },
  {
   "cell_type": "markdown",
   "metadata": {},
   "source": [
    "<h4>会话式保存多个文件</h4>"
   ]
  },
  {
   "cell_type": "code",
   "execution_count": 9,
   "metadata": {
    "scrolled": true
   },
   "outputs": [],
   "source": [
    "data3 = pd.DataFrame(data=np.random.randint(200, size=(100, 4)))\n",
    "with pd.ExcelWriter('to_excel3.xlsx') as w:\n",
    "    data.to_excel(w, sheet_name='A', index=None, header=None)\n",
    "    data2.to_excel(w, sheet_name='B', index=None, header=None)\n",
    "    data3.to_excel(w, sheet_name='C', index=None, header=None)"
   ]
  },
  {
   "cell_type": "code",
   "execution_count": 10,
   "metadata": {},
   "outputs": [],
   "source": [
    "data3 = pd.DataFrame(data=np.random.randint(200, size=(100, 5)))\n",
    "data.to_csv('to_csv1.txt')\n",
    "data2.to_csv('to_csv1.txt', mode='a', header=None, index=[len(data) + x for x in list(range(1, len(data2)))])"
   ]
  },
  {
   "cell_type": "code",
   "execution_count": 14,
   "metadata": {},
   "outputs": [],
   "source": [
    "data4 = pd.DataFrame(data=np.random.randint(1, 1000, size=(1000, 5)), columns=['a', 'b', 'c', 'd', 'e'])\n",
    "data4.to_csv('to_csv2.txt', index=None)"
   ]
  },
  {
   "cell_type": "code",
   "execution_count": 15,
   "metadata": {},
   "outputs": [
    {
     "name": "stdout",
     "output_type": "stream",
     "text": [
      "(200, 5)\n",
      "(200, 5)\n",
      "(200, 5)\n",
      "(200, 5)\n",
      "(200, 5)\n",
      "(1000, 5)\n"
     ]
    }
   ],
   "source": [
    "data5 = pd.read_csv('to_csv2.txt', chunksize=200)\n",
    "chunks = []\n",
    "for c in data5:\n",
    "    chunks.append(c)\n",
    "    print(c.shape)\n",
    "# 合并数据\n",
    "data6 = pd.concat(chunks, axis=0)\n",
    "print(data6.shape)"
   ]
  },
  {
   "cell_type": "code",
   "execution_count": 16,
   "metadata": {},
   "outputs": [
    {
     "data": {
      "text/html": [
       "<div>\n",
       "<style scoped>\n",
       "    .dataframe tbody tr th:only-of-type {\n",
       "        vertical-align: middle;\n",
       "    }\n",
       "\n",
       "    .dataframe tbody tr th {\n",
       "        vertical-align: top;\n",
       "    }\n",
       "\n",
       "    .dataframe thead th {\n",
       "        text-align: right;\n",
       "    }\n",
       "</style>\n",
       "<table border=\"1\" class=\"dataframe\">\n",
       "  <thead>\n",
       "    <tr style=\"text-align: right;\">\n",
       "      <th></th>\n",
       "      <th>a</th>\n",
       "      <th>b</th>\n",
       "      <th>c</th>\n",
       "      <th>d</th>\n",
       "      <th>e</th>\n",
       "    </tr>\n",
       "  </thead>\n",
       "  <tbody>\n",
       "    <tr>\n",
       "      <th>0</th>\n",
       "      <td>341</td>\n",
       "      <td>76</td>\n",
       "      <td>67</td>\n",
       "      <td>206</td>\n",
       "      <td>319</td>\n",
       "    </tr>\n",
       "    <tr>\n",
       "      <th>1</th>\n",
       "      <td>891</td>\n",
       "      <td>886</td>\n",
       "      <td>937</td>\n",
       "      <td>966</td>\n",
       "      <td>382</td>\n",
       "    </tr>\n",
       "    <tr>\n",
       "      <th>2</th>\n",
       "      <td>393</td>\n",
       "      <td>802</td>\n",
       "      <td>768</td>\n",
       "      <td>757</td>\n",
       "      <td>344</td>\n",
       "    </tr>\n",
       "    <tr>\n",
       "      <th>3</th>\n",
       "      <td>876</td>\n",
       "      <td>274</td>\n",
       "      <td>270</td>\n",
       "      <td>260</td>\n",
       "      <td>779</td>\n",
       "    </tr>\n",
       "    <tr>\n",
       "      <th>4</th>\n",
       "      <td>478</td>\n",
       "      <td>347</td>\n",
       "      <td>465</td>\n",
       "      <td>183</td>\n",
       "      <td>937</td>\n",
       "    </tr>\n",
       "  </tbody>\n",
       "</table>\n",
       "</div>"
      ],
      "text/plain": [
       "     a    b    c    d    e\n",
       "0  341   76   67  206  319\n",
       "1  891  886  937  966  382\n",
       "2  393  802  768  757  344\n",
       "3  876  274  270  260  779\n",
       "4  478  347  465  183  937"
      ]
     },
     "execution_count": 16,
     "metadata": {},
     "output_type": "execute_result"
    }
   ],
   "source": [
    "data6.head()"
   ]
  },
  {
   "cell_type": "code",
   "execution_count": 17,
   "metadata": {},
   "outputs": [
    {
     "data": {
      "text/plain": [
       "a    int64\n",
       "b    int64\n",
       "c    int64\n",
       "d    int64\n",
       "e    int64\n",
       "dtype: object"
      ]
     },
     "execution_count": 17,
     "metadata": {},
     "output_type": "execute_result"
    }
   ],
   "source": [
    "data6.dtypes"
   ]
  },
  {
   "cell_type": "markdown",
   "metadata": {},
   "source": [
    "<h4>查看后5条数据</h4>"
   ]
  },
  {
   "cell_type": "code",
   "execution_count": 19,
   "metadata": {},
   "outputs": [
    {
     "data": {
      "text/html": [
       "<div>\n",
       "<style scoped>\n",
       "    .dataframe tbody tr th:only-of-type {\n",
       "        vertical-align: middle;\n",
       "    }\n",
       "\n",
       "    .dataframe tbody tr th {\n",
       "        vertical-align: top;\n",
       "    }\n",
       "\n",
       "    .dataframe thead th {\n",
       "        text-align: right;\n",
       "    }\n",
       "</style>\n",
       "<table border=\"1\" class=\"dataframe\">\n",
       "  <thead>\n",
       "    <tr style=\"text-align: right;\">\n",
       "      <th></th>\n",
       "      <th>a</th>\n",
       "      <th>b</th>\n",
       "      <th>c</th>\n",
       "      <th>d</th>\n",
       "      <th>e</th>\n",
       "    </tr>\n",
       "  </thead>\n",
       "  <tbody>\n",
       "    <tr>\n",
       "      <th>995</th>\n",
       "      <td>472</td>\n",
       "      <td>274</td>\n",
       "      <td>571</td>\n",
       "      <td>805</td>\n",
       "      <td>515</td>\n",
       "    </tr>\n",
       "    <tr>\n",
       "      <th>996</th>\n",
       "      <td>864</td>\n",
       "      <td>812</td>\n",
       "      <td>454</td>\n",
       "      <td>884</td>\n",
       "      <td>544</td>\n",
       "    </tr>\n",
       "    <tr>\n",
       "      <th>997</th>\n",
       "      <td>288</td>\n",
       "      <td>562</td>\n",
       "      <td>855</td>\n",
       "      <td>340</td>\n",
       "      <td>713</td>\n",
       "    </tr>\n",
       "    <tr>\n",
       "      <th>998</th>\n",
       "      <td>269</td>\n",
       "      <td>46</td>\n",
       "      <td>173</td>\n",
       "      <td>534</td>\n",
       "      <td>639</td>\n",
       "    </tr>\n",
       "    <tr>\n",
       "      <th>999</th>\n",
       "      <td>745</td>\n",
       "      <td>528</td>\n",
       "      <td>182</td>\n",
       "      <td>971</td>\n",
       "      <td>343</td>\n",
       "    </tr>\n",
       "  </tbody>\n",
       "</table>\n",
       "</div>"
      ],
      "text/plain": [
       "       a    b    c    d    e\n",
       "995  472  274  571  805  515\n",
       "996  864  812  454  884  544\n",
       "997  288  562  855  340  713\n",
       "998  269   46  173  534  639\n",
       "999  745  528  182  971  343"
      ]
     },
     "execution_count": 19,
     "metadata": {},
     "output_type": "execute_result"
    }
   ],
   "source": [
    "data6.tail()"
   ]
  },
  {
   "cell_type": "markdown",
   "metadata": {},
   "source": [
    "<h4>根据条件获取数据</h4>"
   ]
  },
  {
   "cell_type": "code",
   "execution_count": 21,
   "metadata": {},
   "outputs": [
    {
     "name": "stderr",
     "output_type": "stream",
     "text": [
      "d:\\python3\\lib\\site-packages\\ipykernel_launcher.py:1: UserWarning: Boolean Series key will be reindexed to match DataFrame index.\n",
      "  \"\"\"Entry point for launching an IPython kernel.\n"
     ]
    }
   ],
   "source": [
    "data7 = data6[data6['a'] > 300][data6['b'] > 300]"
   ]
  },
  {
   "cell_type": "code",
   "execution_count": 22,
   "metadata": {},
   "outputs": [
    {
     "data": {
      "text/plain": [
       "(494, 5)"
      ]
     },
     "execution_count": 22,
     "metadata": {},
     "output_type": "execute_result"
    }
   ],
   "source": [
    "data7.shape"
   ]
  },
  {
   "cell_type": "markdown",
   "metadata": {},
   "source": [
    "<h4>查看指定行和指定列</h4>"
   ]
  },
  {
   "cell_type": "code",
   "execution_count": 29,
   "metadata": {},
   "outputs": [
    {
     "data": {
      "text/plain": [
       "344"
      ]
     },
     "execution_count": 29,
     "metadata": {},
     "output_type": "execute_result"
    }
   ],
   "source": [
    "data6[['a', 'b']]\n",
    "data6.iloc[:2, 3:5]  #接受索引\n",
    "data6.loc[:2, ['c', 'e']]   # 列不接受索引\n",
    "data6.iat[2, 4]   # 查看单行单列"
   ]
  },
  {
   "cell_type": "markdown",
   "metadata": {},
   "source": [
    "<h4>查看数据的详细信息</h4>"
   ]
  },
  {
   "cell_type": "code",
   "execution_count": 30,
   "metadata": {},
   "outputs": [
    {
     "name": "stdout",
     "output_type": "stream",
     "text": [
      "<class 'pandas.core.frame.DataFrame'>\n",
      "RangeIndex: 1000 entries, 0 to 999\n",
      "Data columns (total 5 columns):\n",
      "a    1000 non-null int64\n",
      "b    1000 non-null int64\n",
      "c    1000 non-null int64\n",
      "d    1000 non-null int64\n",
      "e    1000 non-null int64\n",
      "dtypes: int64(5)\n",
      "memory usage: 39.2 KB\n"
     ]
    }
   ],
   "source": [
    "data6.info()"
   ]
  },
  {
   "cell_type": "code",
   "execution_count": null,
   "metadata": {},
   "outputs": [],
   "source": []
  }
 ],
 "metadata": {
  "kernelspec": {
   "display_name": "Python 3",
   "language": "python",
   "name": "python3"
  },
  "language_info": {
   "codemirror_mode": {
    "name": "ipython",
    "version": 3
   },
   "file_extension": ".py",
   "mimetype": "text/x-python",
   "name": "python",
   "nbconvert_exporter": "python",
   "pygments_lexer": "ipython3",
   "version": "3.7.2"
  }
 },
 "nbformat": 4,
 "nbformat_minor": 4
}
